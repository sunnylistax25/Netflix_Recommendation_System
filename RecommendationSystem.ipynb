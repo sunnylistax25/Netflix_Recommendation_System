{
  "nbformat": 4,
  "nbformat_minor": 0,
  "metadata": {
    "colab": {
      "provenance": [],
      "authorship_tag": "ABX9TyOaVYxkZr2FriUQuV1wzQlp",
      "include_colab_link": true
    },
    "kernelspec": {
      "name": "python3",
      "display_name": "Python 3"
    },
    "language_info": {
      "name": "python"
    }
  },
  "cells": [
    {
      "cell_type": "markdown",
      "metadata": {
        "id": "view-in-github",
        "colab_type": "text"
      },
      "source": [
        "<a href=\"https://colab.research.google.com/github/sunnylistax25/Netflix_Recommendation_System/blob/main/RecommendationSystem.ipynb\" target=\"_parent\"><img src=\"https://colab.research.google.com/assets/colab-badge.svg\" alt=\"Open In Colab\"/></a>"
      ]
    },
    {
      "cell_type": "code",
      "execution_count": 1,
      "metadata": {
        "colab": {
          "base_uri": "https://localhost:8080/"
        },
        "id": "H3bWwIm0ITi-",
        "outputId": "6547848b-5d40-4808-e42d-c72a334228c4"
      },
      "outputs": [
        {
          "output_type": "stream",
          "name": "stdout",
          "text": [
            "                                Show Id                          Title  \\\n",
            "0  cc1b6ed9-cf9e-4057-8303-34577fb54477                       (Un)Well   \n",
            "1  e2ef4e91-fb25-42ab-b485-be8e3b23dedb                         #Alive   \n",
            "2  b01b73b7-81f6-47a7-86d8-acb63080d525  #AnneFrank - Parallel Stories   \n",
            "3  b6611af0-f53c-4a08-9ffa-9716dc57eb9c                       #blackAF   \n",
            "4  7f2d4170-bab8-4d75-adc2-197f7124c070               #cats_the_mewvie   \n",
            "\n",
            "                                         Description  \\\n",
            "0  This docuseries takes a deep dive into the luc...   \n",
            "1  As a grisly virus rampages a city, a lone man ...   \n",
            "2  Through her diary, Anne Frank's story is retol...   \n",
            "3  Kenya Barris and his family navigate relations...   \n",
            "4  This pawesome documentary explores how our fel...   \n",
            "\n",
            "                      Director  \\\n",
            "0                          NaN   \n",
            "1                       Cho Il   \n",
            "2  Sabina Fedeli, Anna Migotto   \n",
            "3                          NaN   \n",
            "4             Michael Margolis   \n",
            "\n",
            "                                           Genres  \\\n",
            "0                                      Reality TV   \n",
            "1  Horror Movies, International Movies, Thrillers   \n",
            "2             Documentaries, International Movies   \n",
            "3                                     TV Comedies   \n",
            "4             Documentaries, International Movies   \n",
            "\n",
            "                                                Cast Production Country  \\\n",
            "0                                                NaN      United States   \n",
            "1                           Yoo Ah-in, Park Shin-hye        South Korea   \n",
            "2                        Helen Mirren, Gengher Gatti              Italy   \n",
            "3  Kenya Barris, Rashida Jones, Iman Benson, Genn...      United States   \n",
            "4                                                NaN             Canada   \n",
            "\n",
            "   Release Date Rating  Duration Imdb Score Content Type         Date Added  \n",
            "0        2020.0  TV-MA  1 Season     6.6/10      TV Show                NaN  \n",
            "1        2020.0  TV-MA    99 min     6.2/10        Movie  September 8, 2020  \n",
            "2        2019.0  TV-14    95 min     6.4/10        Movie       July 1, 2020  \n",
            "3        2020.0  TV-MA  1 Season     6.6/10      TV Show                NaN  \n",
            "4        2020.0  TV-14    90 min     5.1/10        Movie   February 5, 2020  \n"
          ]
        }
      ],
      "source": [
        "import numpy as np\n",
        "import pandas as pd\n",
        "from sklearn.feature_extraction import text\n",
        "from sklearn.metrics.pairwise import cosine_similarity\n",
        "\n",
        "data = pd.read_csv('netflixData.csv')\n",
        "print(data.head())\n"
      ]
    },
    {
      "cell_type": "code",
      "source": [
        "# Check Null values\n",
        "print(data.isnull().sum())"
      ],
      "metadata": {
        "colab": {
          "base_uri": "https://localhost:8080/"
        },
        "id": "Rn9OeGq3KGGv",
        "outputId": "b3b14d6c-0cc5-4df7-8d27-c0cfb559c98b"
      },
      "execution_count": 2,
      "outputs": [
        {
          "output_type": "stream",
          "name": "stdout",
          "text": [
            "Show Id                  0\n",
            "Title                    0\n",
            "Description              0\n",
            "Director              2064\n",
            "Genres                   0\n",
            "Cast                   530\n",
            "Production Country     559\n",
            "Release Date             3\n",
            "Rating                   4\n",
            "Duration                 3\n",
            "Imdb Score             608\n",
            "Content Type             0\n",
            "Date Added            1335\n",
            "dtype: int64\n"
          ]
        }
      ]
    },
    {
      "cell_type": "code",
      "source": [
        "data = data[['Title', 'Description', 'Content Type', 'Genres']]\n",
        "print(data.head())"
      ],
      "metadata": {
        "colab": {
          "base_uri": "https://localhost:8080/"
        },
        "id": "71ZEnz-_MrHr",
        "outputId": "8bb3e4d2-f99e-4387-ea36-0f1742835a13"
      },
      "execution_count": 3,
      "outputs": [
        {
          "output_type": "stream",
          "name": "stdout",
          "text": [
            "                           Title  \\\n",
            "0                       (Un)Well   \n",
            "1                         #Alive   \n",
            "2  #AnneFrank - Parallel Stories   \n",
            "3                       #blackAF   \n",
            "4               #cats_the_mewvie   \n",
            "\n",
            "                                         Description Content Type  \\\n",
            "0  This docuseries takes a deep dive into the luc...      TV Show   \n",
            "1  As a grisly virus rampages a city, a lone man ...        Movie   \n",
            "2  Through her diary, Anne Frank's story is retol...        Movie   \n",
            "3  Kenya Barris and his family navigate relations...      TV Show   \n",
            "4  This pawesome documentary explores how our fel...        Movie   \n",
            "\n",
            "                                           Genres  \n",
            "0                                      Reality TV  \n",
            "1  Horror Movies, International Movies, Thrillers  \n",
            "2             Documentaries, International Movies  \n",
            "3                                     TV Comedies  \n",
            "4             Documentaries, International Movies  \n"
          ]
        }
      ]
    },
    {
      "cell_type": "code",
      "source": [
        "data = data.dropna()"
      ],
      "metadata": {
        "id": "Ru6PyRVzNCkL"
      },
      "execution_count": 4,
      "outputs": []
    },
    {
      "cell_type": "code",
      "source": [
        "# Cleaning the Title column"
      ],
      "metadata": {
        "id": "BcrAnA7TNZ_S"
      },
      "execution_count": 5,
      "outputs": []
    },
    {
      "cell_type": "code",
      "source": [
        "# stopwords are words that does not mean much to a sentense.\n",
        "# stemmer is an algorithm that can be used to remove suffixes from a word to\n",
        "# obtain root/stem word.\n",
        "import nltk\n",
        "import re\n",
        "nltk.download('stopwords')\n",
        "stemmer = nltk.SnowballStemmer('english')\n",
        "from nltk.corpus import stopwords\n",
        "import string\n",
        "stopword = set(stopwords.words('english'))\n",
        "\n",
        "# cleaning the strings to remove any unwanted symbols, url, html tag, punctuation, newline, digits.\n",
        " \n",
        "def clean(text):\n",
        "  text = str(text).lower()\n",
        "  text = re.sub('\\[.*?\\]', '', text)\n",
        "  text = re.sub('https?://\\S+|www.\\.\\S+', '', text)\n",
        "  text = re.sub('<.*?>+', '', text)\n",
        "  text = re.sub('[%s]' % re.escape(string.punctuation), '', text)\n",
        "  text = re.sub('\\n', '', text)\n",
        "  text = re.sub('\\w*\\d\\w*', '', text)\n",
        "  # removing stopwords Using list comprehension.\n",
        "  text = [word for word in text.split(' ') if word not in stopword]\n",
        "  text = ' '.join(text)\n",
        "  # applying stemming to the words using list comprehension.\n",
        "  text = [stemmer.stem(word) for word in text.split(' ')]\n",
        "  text = ' '.join(text)\n",
        "  return text\n",
        "data['Title'] = data['Title'].apply(clean)\n",
        "\n"
      ],
      "metadata": {
        "colab": {
          "base_uri": "https://localhost:8080/"
        },
        "id": "EtdpKQcpgosn",
        "outputId": "5193a30f-0d4a-47e0-862c-ecdf6b6b60b2"
      },
      "execution_count": 6,
      "outputs": [
        {
          "output_type": "stream",
          "name": "stderr",
          "text": [
            "[nltk_data] Downloading package stopwords to /root/nltk_data...\n",
            "[nltk_data]   Package stopwords is already up-to-date!\n"
          ]
        }
      ]
    },
    {
      "cell_type": "code",
      "source": [
        "print(data.Title.sample(10))"
      ],
      "metadata": {
        "colab": {
          "base_uri": "https://localhost:8080/"
        },
        "id": "Jnwf-f0wml58",
        "outputId": "e11d4b98-47e0-4f54-abe9-31d9a8572f92"
      },
      "execution_count": 7,
      "outputs": [
        {
          "output_type": "stream",
          "name": "stdout",
          "text": [
            "4992                     letdown\n",
            "5492    trevor noah son patricia\n",
            "4961                last bastion\n",
            "5326                 worst witch\n",
            "3241         mumbai delhi mumbai\n",
            "1781                    generat \n",
            "4016                rowdi rathor\n",
            "2999                      mascot\n",
            "5731                      legend\n",
            "1967                  haraamkhor\n",
            "Name: Title, dtype: object\n"
          ]
        }
      ]
    },
    {
      "cell_type": "code",
      "source": [
        "# Using Genres column as feature to recommend similar content to the user.\n",
        "# cosine similarity is used here to find the similarities in two document\n",
        "\n",
        "feature = data['Genres'].tolist()\n",
        "tfidf = text.TfidfVectorizer(input=feature, stop_words='english')\n",
        "tfidf_matrix = tfidf.fit_transform(feature)\n",
        "similarity = cosine_similarity(tfidf_matrix)"
      ],
      "metadata": {
        "id": "C7D5pRqjpy3F"
      },
      "execution_count": 8,
      "outputs": []
    },
    {
      "cell_type": "code",
      "source": [
        "indices = pd.Series(data.index, index=data['Title']).drop_duplicates()"
      ],
      "metadata": {
        "id": "6LL190YmZMY6"
      },
      "execution_count": 9,
      "outputs": []
    },
    {
      "cell_type": "code",
      "source": [
        "# Recommendation Function\n",
        "\n",
        "def netflix_recommendation(title, similarity = similarity):\n",
        "  index = indices[title]\n",
        "  similarity_scores = list(enumerate(similarity[index]))\n",
        "  similarity_scores = sorted(similarity_scores, key=lambda x: x[1], reverse=True)\n",
        "  similarity_scores = similarity_scores[0:10]\n",
        "  movieindices = [i[0] for i in similarity_scores]\n",
        "  return data['Title'].iloc[movieindices]\n",
        "\n"
      ],
      "metadata": {
        "id": "iAU2s57QeSLk"
      },
      "execution_count": 10,
      "outputs": []
    },
    {
      "cell_type": "code",
      "source": [
        "print(netflix_recommendation('godzilla'))"
      ],
      "metadata": {
        "colab": {
          "base_uri": "https://localhost:8080/"
        },
        "id": "ZcDWr14l1x8z",
        "outputId": "05e0ebb6-a1aa-4bd4-9303-6490a1289efa"
      },
      "execution_count": 29,
      "outputs": [
        {
          "output_type": "stream",
          "name": "stdout",
          "text": [
            "120                                  lion hous\n",
            "816                         bright music video\n",
            "1649                 five came back refer film\n",
            "1852                                  godzilla\n",
            "3053                    metallica kind monster\n",
            "3706               pioneer first women filmmak\n",
            "3758    pretti guardian sailor moon etern movi\n",
            "4289                         six window desert\n",
            "4878                 hate eight extend version\n",
            "2523                                    khaani\n",
            "Name: Title, dtype: object\n"
          ]
        }
      ]
    },
    {
      "cell_type": "code",
      "source": [
        "print(netflix_recommendation('letdown'))"
      ],
      "metadata": {
        "colab": {
          "base_uri": "https://localhost:8080/"
        },
        "id": "efqRwuZN80wW",
        "outputId": "01fac959-ea1a-493f-a1ba-41f792ba2b7d"
      },
      "execution_count": 39,
      "outputs": [
        {
          "output_type": "stream",
          "name": "stdout",
          "text": [
            "89                          boy name flora\n",
            "532                          bangkok buddi\n",
            "866                             call agent\n",
            "873                                   hear\n",
            "948     check store next door next chapter\n",
            "1566                           famili busi\n",
            "1763                          game win hit\n",
            "1827                           girl hostel\n",
            "2075                               hjørdis\n",
            "2107             hong kong west side stori\n",
            "Name: Title, dtype: object\n"
          ]
        }
      ]
    },
    {
      "cell_type": "code",
      "source": [
        "print(netflix_recommendation('mascot'))"
      ],
      "metadata": {
        "colab": {
          "base_uri": "https://localhost:8080/"
        },
        "id": "BA6pWgql9VTG",
        "outputId": "a2ecae13-4a1b-42ef-b348-8cc9696493ac"
      },
      "execution_count": 40,
      "outputs": [
        {
          "output_type": "stream",
          "name": "stdout",
          "text": [
            "7                          realityhigh\n",
            "106                futil stupid gestur\n",
            "191                             accept\n",
            "331            american pie  girl rule\n",
            "456    austin power intern man mysteri\n",
            "513                       bad grandpa \n",
            "517                           bad trip\n",
            "577                           bebe kid\n",
            "629                      two fern movi\n",
            "999                    christma surviv\n",
            "Name: Title, dtype: object\n"
          ]
        }
      ]
    },
    {
      "cell_type": "code",
      "source": [],
      "metadata": {
        "id": "P1uW-Lmc9buH"
      },
      "execution_count": null,
      "outputs": []
    }
  ]
}